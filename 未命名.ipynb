{
 "cells": [
  {
   "cell_type": "code",
   "execution_count": 65,
   "id": "ef9df2f8",
   "metadata": {},
   "outputs": [],
   "source": [
    "import re\n",
    "import pandas as pd"
   ]
  },
  {
   "cell_type": "markdown",
   "id": "3f355b65",
   "metadata": {},
   "source": [
    "# 数据提取"
   ]
  },
  {
   "cell_type": "code",
   "execution_count": 70,
   "id": "52b2f17f",
   "metadata": {},
   "outputs": [],
   "source": [
    "data = \"\"\"\n",
    "1. Max 3 周1-5晚上七点至九点6、7下午晚上均可。\n",
    "2. Darry 3 周1-7晚7-10点均可\n",
    "3. Lana🐾  2 周一、周末晚上7-10均可\n",
    "4. J 每天晚上有空就参加 None\n",
    "5. Joanna 3次 周一至周日晚7-10点均可\n",
    "6. Coraline 随缘参加一周一次大概 None\n",
    "7. Latitia 1 周五或周六晚上\n",
    "8. Elaine 3 晚上有空就参加\n",
    "9. Celine 2 九点后都可以\n",
    "10. 笑颜 2 8点半以后都可以\n",
    "11. h None 晚八点半以后\n",
    "12. hzz 1 有空参加\"\"\"\n",
    "with open(\"data.csv\",\"w+\") as f:\n",
    "    f.write(data)\n",
    "    "
   ]
  },
  {
   "cell_type": "code",
   "execution_count": 80,
   "id": "b5017dce",
   "metadata": {},
   "outputs": [],
   "source": [
    "df = pd.read_csv(\"data.csv\", sep=\" \",header=None,names=[\"No.\",\"Name\", \"Freq.\",\"Avaliable time\"])"
   ]
  },
  {
   "cell_type": "code",
   "execution_count": 81,
   "id": "fc40c3b1",
   "metadata": {},
   "outputs": [
    {
     "data": {
      "text/html": [
       "<div>\n",
       "<style scoped>\n",
       "    .dataframe tbody tr th:only-of-type {\n",
       "        vertical-align: middle;\n",
       "    }\n",
       "\n",
       "    .dataframe tbody tr th {\n",
       "        vertical-align: top;\n",
       "    }\n",
       "\n",
       "    .dataframe thead th {\n",
       "        text-align: right;\n",
       "    }\n",
       "</style>\n",
       "<table border=\"1\" class=\"dataframe\">\n",
       "  <thead>\n",
       "    <tr style=\"text-align: right;\">\n",
       "      <th></th>\n",
       "      <th>No.</th>\n",
       "      <th>Name</th>\n",
       "      <th>Freq.</th>\n",
       "      <th>Avaliable time</th>\n",
       "    </tr>\n",
       "  </thead>\n",
       "  <tbody>\n",
       "    <tr>\n",
       "      <th>0</th>\n",
       "      <td>1.0</td>\n",
       "      <td>Max</td>\n",
       "      <td>3</td>\n",
       "      <td>周1-5晚上七点至九点6、7下午晚上均可。</td>\n",
       "    </tr>\n",
       "    <tr>\n",
       "      <th>1</th>\n",
       "      <td>2.0</td>\n",
       "      <td>Darry</td>\n",
       "      <td>3</td>\n",
       "      <td>周1-7晚7-10点均可</td>\n",
       "    </tr>\n",
       "    <tr>\n",
       "      <th>2</th>\n",
       "      <td>3.0</td>\n",
       "      <td>Lana🐾</td>\n",
       "      <td>2</td>\n",
       "      <td>周一、周末晚上7-10均可</td>\n",
       "    </tr>\n",
       "    <tr>\n",
       "      <th>3</th>\n",
       "      <td>4.0</td>\n",
       "      <td>J</td>\n",
       "      <td>每天晚上有空就参加</td>\n",
       "      <td>None</td>\n",
       "    </tr>\n",
       "    <tr>\n",
       "      <th>4</th>\n",
       "      <td>5.0</td>\n",
       "      <td>Joanna</td>\n",
       "      <td>3</td>\n",
       "      <td>周一至周日晚7-10点均可</td>\n",
       "    </tr>\n",
       "    <tr>\n",
       "      <th>5</th>\n",
       "      <td>6.0</td>\n",
       "      <td>Coraline</td>\n",
       "      <td>1</td>\n",
       "      <td>None</td>\n",
       "    </tr>\n",
       "    <tr>\n",
       "      <th>6</th>\n",
       "      <td>7.0</td>\n",
       "      <td>Latitia</td>\n",
       "      <td>1</td>\n",
       "      <td>周五或周六晚上</td>\n",
       "    </tr>\n",
       "    <tr>\n",
       "      <th>7</th>\n",
       "      <td>8.0</td>\n",
       "      <td>Elaine</td>\n",
       "      <td>3</td>\n",
       "      <td>晚上有空就参加</td>\n",
       "    </tr>\n",
       "    <tr>\n",
       "      <th>8</th>\n",
       "      <td>9.0</td>\n",
       "      <td>Celine</td>\n",
       "      <td>2</td>\n",
       "      <td>九点后都可以</td>\n",
       "    </tr>\n",
       "    <tr>\n",
       "      <th>9</th>\n",
       "      <td>10.0</td>\n",
       "      <td>笑颜</td>\n",
       "      <td>2</td>\n",
       "      <td>8点半以后都可以</td>\n",
       "    </tr>\n",
       "    <tr>\n",
       "      <th>10</th>\n",
       "      <td>11.0</td>\n",
       "      <td>h</td>\n",
       "      <td>None</td>\n",
       "      <td>晚八点半以后</td>\n",
       "    </tr>\n",
       "    <tr>\n",
       "      <th>11</th>\n",
       "      <td>12.0</td>\n",
       "      <td>hzz</td>\n",
       "      <td>1</td>\n",
       "      <td>有空参加</td>\n",
       "    </tr>\n",
       "  </tbody>\n",
       "</table>\n",
       "</div>"
      ],
      "text/plain": [
       "     No.      Name      Freq.         Avaliable time\n",
       "0    1.0       Max          3  周1-5晚上七点至九点6、7下午晚上均可。\n",
       "1    2.0     Darry          3           周1-7晚7-10点均可\n",
       "2    3.0     Lana🐾          2          周一、周末晚上7-10均可\n",
       "3    4.0         J  每天晚上有空就参加                   None\n",
       "4    5.0    Joanna          3          周一至周日晚7-10点均可\n",
       "5    6.0  Coraline          1                   None\n",
       "6    7.0   Latitia          1                周五或周六晚上\n",
       "7    8.0    Elaine          3                晚上有空就参加\n",
       "8    9.0    Celine          2                 九点后都可以\n",
       "9   10.0        笑颜          2               8点半以后都可以\n",
       "10  11.0         h       None                 晚八点半以后\n",
       "11  12.0       hzz          1                   有空参加"
      ]
     },
     "execution_count": 81,
     "metadata": {},
     "output_type": "execute_result"
    }
   ],
   "source": [
    "df"
   ]
  },
  {
   "cell_type": "code",
   "execution_count": 84,
   "id": "8b3369c2",
   "metadata": {},
   "outputs": [],
   "source": [
    "df[\"No.\"] = df[\"No.\"].astype(\"int\")"
   ]
  },
  {
   "cell_type": "code",
   "execution_count": 88,
   "id": "21d553ea",
   "metadata": {},
   "outputs": [
    {
     "data": {
      "text/html": [
       "<div>\n",
       "<style scoped>\n",
       "    .dataframe tbody tr th:only-of-type {\n",
       "        vertical-align: middle;\n",
       "    }\n",
       "\n",
       "    .dataframe tbody tr th {\n",
       "        vertical-align: top;\n",
       "    }\n",
       "\n",
       "    .dataframe thead th {\n",
       "        text-align: right;\n",
       "    }\n",
       "</style>\n",
       "<table border=\"1\" class=\"dataframe\">\n",
       "  <thead>\n",
       "    <tr style=\"text-align: right;\">\n",
       "      <th></th>\n",
       "      <th>Name</th>\n",
       "      <th>Freq.</th>\n",
       "      <th>Avaliable time</th>\n",
       "    </tr>\n",
       "    <tr>\n",
       "      <th>No.</th>\n",
       "      <th></th>\n",
       "      <th></th>\n",
       "      <th></th>\n",
       "    </tr>\n",
       "  </thead>\n",
       "  <tbody>\n",
       "    <tr>\n",
       "      <th>1</th>\n",
       "      <td>Max</td>\n",
       "      <td>3</td>\n",
       "      <td>周1-5晚上七点至九点6、7下午晚上均可。</td>\n",
       "    </tr>\n",
       "    <tr>\n",
       "      <th>2</th>\n",
       "      <td>Darry</td>\n",
       "      <td>3</td>\n",
       "      <td>周1-7晚7-10点均可</td>\n",
       "    </tr>\n",
       "    <tr>\n",
       "      <th>3</th>\n",
       "      <td>Lana🐾</td>\n",
       "      <td>2</td>\n",
       "      <td>周一、周末晚上7-10均可</td>\n",
       "    </tr>\n",
       "    <tr>\n",
       "      <th>4</th>\n",
       "      <td>J</td>\n",
       "      <td>每天晚上有空就参加</td>\n",
       "      <td>None</td>\n",
       "    </tr>\n",
       "    <tr>\n",
       "      <th>5</th>\n",
       "      <td>Joanna</td>\n",
       "      <td>3</td>\n",
       "      <td>周一至周日晚7-10点均可</td>\n",
       "    </tr>\n",
       "    <tr>\n",
       "      <th>6</th>\n",
       "      <td>Coraline</td>\n",
       "      <td>1</td>\n",
       "      <td>None</td>\n",
       "    </tr>\n",
       "    <tr>\n",
       "      <th>7</th>\n",
       "      <td>Latitia</td>\n",
       "      <td>1</td>\n",
       "      <td>周五或周六晚上</td>\n",
       "    </tr>\n",
       "    <tr>\n",
       "      <th>8</th>\n",
       "      <td>Elaine</td>\n",
       "      <td>3</td>\n",
       "      <td>晚上有空就参加</td>\n",
       "    </tr>\n",
       "    <tr>\n",
       "      <th>9</th>\n",
       "      <td>Celine</td>\n",
       "      <td>2</td>\n",
       "      <td>九点后都可以</td>\n",
       "    </tr>\n",
       "    <tr>\n",
       "      <th>10</th>\n",
       "      <td>笑颜</td>\n",
       "      <td>2</td>\n",
       "      <td>8点半以后都可以</td>\n",
       "    </tr>\n",
       "    <tr>\n",
       "      <th>11</th>\n",
       "      <td>h</td>\n",
       "      <td>None</td>\n",
       "      <td>晚八点半以后</td>\n",
       "    </tr>\n",
       "    <tr>\n",
       "      <th>12</th>\n",
       "      <td>hzz</td>\n",
       "      <td>1</td>\n",
       "      <td>有空参加</td>\n",
       "    </tr>\n",
       "  </tbody>\n",
       "</table>\n",
       "</div>"
      ],
      "text/plain": [
       "         Name      Freq.         Avaliable time\n",
       "No.                                            \n",
       "1         Max          3  周1-5晚上七点至九点6、7下午晚上均可。\n",
       "2       Darry          3           周1-7晚7-10点均可\n",
       "3       Lana🐾          2          周一、周末晚上7-10均可\n",
       "4           J  每天晚上有空就参加                   None\n",
       "5      Joanna          3          周一至周日晚7-10点均可\n",
       "6    Coraline          1                   None\n",
       "7     Latitia          1                周五或周六晚上\n",
       "8      Elaine          3                晚上有空就参加\n",
       "9      Celine          2                 九点后都可以\n",
       "10         笑颜          2               8点半以后都可以\n",
       "11          h       None                 晚八点半以后\n",
       "12        hzz          1                   有空参加"
      ]
     },
     "execution_count": 88,
     "metadata": {},
     "output_type": "execute_result"
    }
   ],
   "source": [
    "df.loc[4,\"Freq\"] = "
   ]
  },
  {
   "cell_type": "code",
   "execution_count": 165,
   "id": "450ce04b",
   "metadata": {},
   "outputs": [],
   "source": [
    "#maplist =dict(zip(range(1,8),[\"一\",\"二\",\"三\",\"四\",\"五\",\"六\",\"七\"]))\n",
    "idx = [\"7~8\",\"8~9\",\"9~10\"]#pd.qcut(range(7,10),3, precision=0)\n",
    "#cols = [f\"周{maplist[i]}\"  for i in range(1,8)]\n",
    "cols = [\"Monday\", \"Tuesday\",\"Wednesday\",\"Thursday\",\"Friday\",\"Saturday\",\"Sunday\"] \n",
    "time_df = pd.DataFrame(data=0, columns=cols, index=idx)    "
   ]
  },
  {
   "cell_type": "code",
   "execution_count": 166,
   "id": "5b651536",
   "metadata": {},
   "outputs": [],
   "source": [
    "df[\"have_partin_times\"] = [5,2,1,5,5,3,1,1,1,3,3,2]"
   ]
  },
  {
   "cell_type": "code",
   "execution_count": 167,
   "id": "99f47604",
   "metadata": {},
   "outputs": [],
   "source": [
    "time_df.iloc[:,:] = 7 #max and darry\n",
    "time_df.iloc[:,[0,6]] =  time_df.iloc[:,[0,6]]  + 1 #luna\n",
    "time_df.iloc[:,:] = time_df.iloc[:,:] + 5      #jonna\n",
    "time_df.iloc[:,[4,5]] = time_df.iloc[:,[4,5]] + 1 #latitia\n",
    "time_df.iloc[[2],:] = time_df.iloc[[2],:] + 5 #Celine 笑颜\n"
   ]
  },
  {
   "cell_type": "code",
   "execution_count": null,
   "id": "a17f527a",
   "metadata": {},
   "outputs": [],
   "source": []
  },
  {
   "cell_type": "code",
   "execution_count": 168,
   "id": "af9ba546",
   "metadata": {},
   "outputs": [],
   "source": [
    "import seaborn as sns\n",
    "import matplotlib.pyplot as plt\n",
    "%matplotlib inline"
   ]
  },
  {
   "cell_type": "code",
   "execution_count": 172,
   "id": "42fbf1b1",
   "metadata": {},
   "outputs": [
    {
     "data": {
      "text/plain": [
       "<AxesSubplot:>"
      ]
     },
     "execution_count": 172,
     "metadata": {},
     "output_type": "execute_result"
    },
    {
     "data": {
      "image/png": "[encoded data removed]",
      "text/plain": [
       "<Figure size 432x288 with 2 Axes>"
      ]
     },
     "metadata": {
      "needs_background": "light"
     },
     "output_type": "display_data"
    }
   ],
   "source": [
    "sns.heatmap(time_df,linewidths=0.05, cmap='rainbow')"
   ]
  },
  {
   "cell_type": "code",
   "execution_count": null,
   "id": "41ed6c64",
   "metadata": {},
   "outputs": [],
   "source": []
  }
 ],
 "metadata": {
  "kernelspec": {
   "display_name": "Python 3 (ipykernel)",
   "language": "python",
   "name": "python3"
  },
  "language_info": {
   "codemirror_mode": {
    "name": "ipython",
    "version": 3
   },
   "file_extension": ".py",
   "mimetype": "text/x-python",
   "name": "python",
   "nbconvert_exporter": "python",
   "pygments_lexer": "ipython3",
   "version": "3.9.7"
  }
 },
 "nbformat": 4,
 "nbformat_minor": 5
}
